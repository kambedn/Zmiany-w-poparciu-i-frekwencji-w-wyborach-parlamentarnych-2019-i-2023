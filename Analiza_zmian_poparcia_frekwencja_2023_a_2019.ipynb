version https://git-lfs.github.com/spec/v1
oid sha256:8d183cd330c8c82354d716e7666be8dc8229f3db7788fda979d41a96d10553f3
size 467664332
